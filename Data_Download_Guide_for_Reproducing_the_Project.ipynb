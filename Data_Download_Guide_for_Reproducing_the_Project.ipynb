{
  "nbformat": 4,
  "nbformat_minor": 0,
  "metadata": {
    "colab": {
      "provenance": [],
      "authorship_tag": "ABX9TyMULVA84YGeKFf3DNSZR6Cn",
      "include_colab_link": true
    },
    "kernelspec": {
      "name": "python3",
      "display_name": "Python 3"
    },
    "language_info": {
      "name": "python"
    }
  },
  "cells": [
    {
      "cell_type": "markdown",
      "metadata": {
        "id": "view-in-github",
        "colab_type": "text"
      },
      "source": [
        "<a href=\"https://colab.research.google.com/github/digital0923RJ/JAEYEON-JO-Momenta/blob/main/Data_Download_Guide_for_Reproducing_the_Project.ipynb\" target=\"_parent\"><img src=\"https://colab.research.google.com/assets/colab-badge.svg\" alt=\"Open In Colab\"/></a>"
      ]
    },
    {
      "cell_type": "markdown",
      "source": [
        "# Data Download Guide for Reproducing the Project\n",
        "\n",
        "To reproduce this project, you'll first need to download datasets from the following two Google Drive links.\n",
        "\n",
        "---\n",
        "\n",
        "## Step 1: Access Google Drive Links\n",
        "\n",
        "Access the datasets via these Google Drive links:\n",
        "\n",
        "- [**Dataset 1**] https://drive.google.com/drive/folders/17gxVb-ewLifAn6FuUc4KewhnFdstd-wq?usp=drive_link\n",
        "- [**Dataset 2**] https://drive.google.com/drive/folders/1duVbiSx9SP95abwIdoLgXfcn__9G3THh?usp=drive_link\n",
        "\n",
        "> **Note:** Make sure you're logged in to your Google account when accessing these links.\n",
        "\n",
        "> ⚠️ **Note:**  \n",
        "Don't get confused — the **fake** audio files are in the folder named **`ljspeech_melgan_large`**, and the **real** audio files are in the folder named **`LJSpeech-1.1`**.\n",
        "\n",
        "---\n",
        "\n",
        "## Step 2: Downloading Files\n",
        "\n",
        "To download the files from Google Drive:\n",
        "\n",
        "1. Click on each link above to open the corresponding Google Drive folder.\n",
        "2. Right-click the file or folder you want to download.\n",
        "3. Select **\"Download\"** from the context menu to save the files to your local machine.\n",
        "\n",
        "> **Tip:** To download multiple files at once, you can download the entire folder. Google Drive will automatically zip the folder before downloading.\n",
        "\n",
        "---\n",
        "\n",
        "## Step 3:Update File Paths\n",
        "\n",
        "Make sure your dataset paths match those used in the code. Update paths in your script or notebook if needed.\n",
        "> ⚠️ **Note:**  \n",
        "Don't get confused — the **fake** audio files are in the folder named **`ljspeech_melgan_large`**, and the **real** audio files are in the folder named **`LJSpeech-1.1`**.\n",
        "\n",
        "\n",
        "Example:\n",
        "\n",
        "REAL_PATH = Path(\"/content/drive/MyDrive/Internship /LJSpeech-1.1\")\n",
        "\n",
        "FAKE_PATH = Path(\"/content/drive/MyDrive/Internship /ljspeech_melgan_large\")\n",
        "\n"
      ],
      "metadata": {
        "id": "zLRA5IN8pGEP"
      }
    }
  ]
}