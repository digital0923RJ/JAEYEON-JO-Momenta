{
  "nbformat": 4,
  "nbformat_minor": 0,
  "metadata": {
    "colab": {
      "provenance": [],
      "authorship_tag": "ABX9TyN3Gxz6l5a0lKgSdrEShhLJ",
      "include_colab_link": true
    },
    "kernelspec": {
      "name": "python3",
      "display_name": "Python 3"
    },
    "language_info": {
      "name": "python"
    }
  },
  "cells": [
    {
      "cell_type": "markdown",
      "metadata": {
        "id": "view-in-github",
        "colab_type": "text"
      },
      "source": [
        "<a href=\"https://colab.research.google.com/github/digital0923RJ/JAEYEON-JO-Momenta/blob/main/Reproducibility.ipynb\" target=\"_parent\"><img src=\"https://colab.research.google.com/assets/colab-badge.svg\" alt=\"Open In Colab\"/></a>"
      ]
    },
    {
      "cell_type": "markdown",
      "source": [
        "## Reproducibility\n",
        "\n",
        "### Reproducibility Settings\n",
        "- A fixed random seed is used for consistent results: SEED = 42\n",
        "- For faster training, it is recommended to use a CUDA-compatible GPU (e.g., NVIDIA A100).\n",
        "- Make sure your dataset contains .wav or .WAV files, as expected by the code.\n",
        "- Set the correct paths for your real and fake audio directories as expected by the code."
      ],
      "metadata": {
        "id": "QSCCTiFeLHy7"
      }
    }
  ]
}